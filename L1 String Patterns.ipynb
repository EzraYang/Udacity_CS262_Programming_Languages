{
 "cells": [
  {
   "cell_type": "markdown",
   "metadata": {},
   "source": [
    "## 0 \n",
    "### Course Overview\n",
    "![course goal](http://note.youdao.com/yws/public/resource/5ef28d14db632d7764deb4a6395cb443/xmlnote/WEBRESOURCE73e49bd1fa05aea708d0bf107e8959f6/27820)\n",
    "### Goal:\n",
    "* to use the goal of building a web browser to explore computer science\n",
    "\n",
    "### Steps:\n",
    "* start with web page source (HTML, JavaScript)\n",
    "* break them into important words\n",
    "* undstand the structure of the words we found \n",
    "* figure the meaning of the structure\n",
    "\n",
    "### Learning points\n",
    "* regular expressions\n",
    "* Finite State Machine\n",
    "* add a lexer that follows them automatically\n",
    "* context free grammar\n",
    "* parsing\n",
    "* having a parser that follow automatically"
   ]
  },
  {
   "cell_type": "markdown",
   "metadata": {},
   "source": [
    "## 1 Simple string manipulation"
   ]
  },
  {
   "cell_type": "markdown",
   "metadata": {},
   "source": [
    "### 1.1 find position (indices) in strings"
   ]
  },
  {
   "cell_type": "code",
   "execution_count": 15,
   "metadata": {
    "collapsed": false
   },
   "outputs": [
    {
     "data": {
      "text/plain": [
       "3"
      ]
     },
     "execution_count": 15,
     "metadata": {},
     "output_type": "execute_result"
    }
   ],
   "source": [
    "\"Ada Lovelace\".find(\" \")"
   ]
  },
  {
   "cell_type": "code",
   "execution_count": 4,
   "metadata": {
    "collapsed": false
   },
   "outputs": [
    {
     "data": {
      "text/plain": [
       "9"
      ]
     },
     "execution_count": 4,
     "metadata": {},
     "output_type": "execute_result"
    }
   ],
   "source": [
    "\"Alan Turing\".find(\"n\", 4) # second param is the starting position"
   ]
  },
  {
   "cell_type": "markdown",
   "metadata": {},
   "source": [
    "### 1.2 slice strings"
   ]
  },
  {
   "cell_type": "code",
   "execution_count": 12,
   "metadata": {
    "collapsed": false
   },
   "outputs": [
    {
     "name": "stdout",
     "output_type": "stream",
     "text": [
      "True\n"
     ]
    }
   ],
   "source": [
    "def myfirst_yoursecond(p, q):\n",
    "    indexP = p.find(\" \")\n",
    "    indexQ = q.find(\" \")\n",
    "    pFirst = p[:indexP]\n",
    "    qSecond = q[indexQ + 1:]\n",
    "    return pFirst == qSecond\n",
    "\n",
    "print(myfirst_yoursecond(\"bell hooks\", \"curer bell\"))"
   ]
  },
  {
   "cell_type": "markdown",
   "metadata": {},
   "source": [
    "### 1.3 split strings"
   ]
  },
  {
   "cell_type": "code",
   "execution_count": 13,
   "metadata": {
    "collapsed": false
   },
   "outputs": [
    {
     "data": {
      "text/plain": [
       "['Python', 'is', 'fun']"
      ]
     },
     "execution_count": 13,
     "metadata": {},
     "output_type": "execute_result"
    }
   ],
   "source": [
    "\"Python is fun\".split( )"
   ]
  },
  {
   "cell_type": "code",
   "execution_count": 23,
   "metadata": {
    "collapsed": false
   },
   "outputs": [
    {
     "data": {
      "text/plain": [
       "['Python', 'is', 'fun']"
      ]
     },
     "execution_count": 23,
     "metadata": {},
     "output_type": "execute_result"
    }
   ],
   "source": [
    "\"Python is fun\".split(\" \")"
   ]
  },
  {
   "cell_type": "markdown",
   "metadata": {},
   "source": [
    "## 2 Regular Expressions"
   ]
  },
  {
   "cell_type": "markdown",
   "metadata": {},
   "source": [
    "to get more control over string\n",
    "\n",
    "regular = simple strings  \n",
    "expression = consice notation  \n",
    "\n",
    "[1-3] == \"1\", \"2\", \"3\"  \n",
    "\n",
    "import re # python's regular expression module  \n",
    "\"[0-9]\" # it's a string  \n",
    "r\"[0-9]\" # it's a regular expression mathing 10 different strings  \n"
   ]
  },
  {
   "cell_type": "code",
   "execution_count": 19,
   "metadata": {
    "collapsed": false
   },
   "outputs": [
    {
     "data": {
      "text/plain": [
       "['1', '2', '3']"
      ]
     },
     "execution_count": 19,
     "metadata": {},
     "output_type": "execute_result"
    }
   ],
   "source": [
    "import re\n",
    "\n",
    "# returns a list of substrings of second param\n",
    "# that match the regular expression\n",
    "re.findall(r\"[0-9]\", \"1+2 == 3\")"
   ]
  },
  {
   "cell_type": "code",
   "execution_count": 20,
   "metadata": {
    "collapsed": false
   },
   "outputs": [
    {
     "data": {
      "text/plain": [
       "['1', '2']"
      ]
     },
     "execution_count": 20,
     "metadata": {},
     "output_type": "execute_result"
    }
   ],
   "source": [
    "re.findall(r\"[1-2]\", \"1+2==3\")"
   ]
  },
  {
   "cell_type": "code",
   "execution_count": 22,
   "metadata": {
    "collapsed": false
   },
   "outputs": [
    {
     "data": {
      "text/plain": [
       "['a', 'b', 'a', 'a']"
      ]
     },
     "execution_count": 22,
     "metadata": {},
     "output_type": "execute_result"
    }
   ],
   "source": [
    "re.findall(r\"[a-c]\", \"Babara Liskov\") # case sensitive"
   ]
  },
  {
   "cell_type": "markdown",
   "metadata": {},
   "source": [
    "### 2.1 Concatenation[ ][ ]"
   ]
  },
  {
   "cell_type": "code",
   "execution_count": 25,
   "metadata": {
    "collapsed": false
   },
   "outputs": [
    {
     "data": {
      "text/plain": [
       "'[a-c][1-2]'"
      ]
     },
     "execution_count": 25,
     "metadata": {},
     "output_type": "execute_result"
    }
   ],
   "source": [
    "r\"[a-c][1-2]\"  # 6 matching strings"
   ]
  },
  {
   "cell_type": "code",
   "execution_count": 26,
   "metadata": {
    "collapsed": false
   },
   "outputs": [
    {
     "data": {
      "text/plain": [
       "['a1', 'c3']"
      ]
     },
     "execution_count": 26,
     "metadata": {},
     "output_type": "execute_result"
    }
   ],
   "source": [
    "re.findall(r\"[a-z][0-9]\", \"a1 2b cc3 44d\")"
   ]
  },
  {
   "cell_type": "markdown",
   "metadata": {},
   "source": [
    "### 2.2 (the previous thing)One or More  times +\n",
    "\n",
    "\"+\" sign  \n",
    "(+前面那一个东西出现one or more times)  \n",
    "\n",
    "r\"a+\"  matches 'a' 'aa' 'aaa' ...  \n",
    "r\"[0-1]+\"  matches '0' '1' '00' '11' '01' '10' '000' '001' '010' '111' ...    \n",
    "\n",
    "re.findall(r\"[0-9]\", \"1776\") will get \"1776\" # maximum munch"
   ]
  },
  {
   "cell_type": "code",
   "execution_count": 27,
   "metadata": {
    "collapsed": false
   },
   "outputs": [
    {
     "data": {
      "text/plain": [
       "['1 2', '3 44']"
      ]
     },
     "execution_count": 27,
     "metadata": {},
     "output_type": "execute_result"
    }
   ],
   "source": [
    "re.findall(r\"[0-9][ ][0-9]+\", \"a1 2b cc3 44d\")"
   ]
  },
  {
   "cell_type": "markdown",
   "metadata": {},
   "source": [
    "### 2.3 Finite State Machines  \n",
    "\n",
    "a visual representation of regular expressions\n",
    "\n",
    "![an example of finite state machine](http://note.youdao.com/yws/public/resource/5ef28d14db632d7764deb4a6395cb443/xmlnote/WEBRESOURCE76f08fdaa536515fad1505a411c72d66/27824)"
   ]
  },
  {
   "cell_type": "markdown",
   "metadata": {},
   "source": [
    "### 2.4 Disjunction ( \"or\" notation)  |\n",
    "\n",
    "![](http://note.youdao.com/yws/public/resource/5ef28d14db632d7764deb4a6395cb443/xmlnote/WEBRESOURCE220fe21ed947a808721efff0329e8e72/27826)"
   ]
  },
  {
   "cell_type": "code",
   "execution_count": 29,
   "metadata": {
    "collapsed": false
   },
   "outputs": [
    {
     "data": {
      "text/plain": [
       "['oethe', '1749']"
      ]
     },
     "execution_count": 29,
     "metadata": {},
     "output_type": "execute_result"
    }
   ],
   "source": [
    "re.findall(r\"[a-z]+|[0-9]+\", \"Goethe 1749\")"
   ]
  },
  {
   "cell_type": "markdown",
   "metadata": {},
   "source": [
    "### 2.5 (the previous thing) Zero or one time  ?\n",
    "\n",
    "![](http://note.youdao.com/yws/public/resource/1c03bd415f0f751e46aa6d97ed5acbcb/xmlnote/WEBRESOURCE5c6caa12a42e68bdbeb122421fa70331/27831)\n"
   ]
  },
  {
   "cell_type": "code",
   "execution_count": 30,
   "metadata": {
    "collapsed": false
   },
   "outputs": [
    {
     "data": {
      "text/plain": [
       "['1861', '-1941']"
      ]
     },
     "execution_count": 30,
     "metadata": {},
     "output_type": "execute_result"
    }
   ],
   "source": [
    "re.findall(r\"-?[0-9]+\", \"1861-1941 R.Tagore\")"
   ]
  },
  {
   "cell_type": "markdown",
   "metadata": {},
   "source": [
    "### 2.6 (the previous thing)Zero or more times *"
   ]
  },
  {
   "cell_type": "markdown",
   "metadata": {},
   "source": [
    "### 2.7 escape sequences \\"
   ]
  },
  {
   "cell_type": "code",
   "execution_count": 38,
   "metadata": {
    "collapsed": false
   },
   "outputs": [
    {
     "name": "stdout",
     "output_type": "stream",
     "text": [
      "True\n"
     ]
    }
   ],
   "source": [
    "regexp = r\"[a-z]+\\( *[0-9]+ *\\)\"\n",
    "\n",
    "print(re.findall(regexp,\"cos(0)\") == [\"cos(0)\"])"
   ]
  },
  {
   "cell_type": "markdown",
   "metadata": {},
   "source": [
    "### 2.8 any character except new line ."
   ]
  },
  {
   "cell_type": "code",
   "execution_count": 40,
   "metadata": {
    "collapsed": false
   },
   "outputs": [
    {
     "data": {
      "text/plain": [
       "['1a1', '222']"
      ]
     },
     "execution_count": 40,
     "metadata": {},
     "output_type": "execute_result"
    }
   ],
   "source": [
    "re.findall(r\"[0-9].[0-9]\", \"1a1 222 cc3\")"
   ]
  },
  {
   "cell_type": "markdown",
   "metadata": {},
   "source": [
    "### 2.9 anything except  sth [^sth]"
   ]
  },
  {
   "cell_type": "code",
   "execution_count": 41,
   "metadata": {
    "collapsed": false
   },
   "outputs": [
    {
     "data": {
      "text/plain": [
       "['1 ', '22', '2 ', '33']"
      ]
     },
     "execution_count": 41,
     "metadata": {},
     "output_type": "execute_result"
    }
   ],
   "source": [
    "re.findall(r\"[0-9][^ab]\", \"1a1 222 33c\")"
   ]
  },
  {
   "cell_type": "markdown",
   "metadata": {},
   "source": [
    "### 2.10 grouping (or structure)  \n",
    "\n",
    "(?: things inside are taken as a whole)\n"
   ]
  },
  {
   "cell_type": "code",
   "execution_count": 42,
   "metadata": {
    "collapsed": false
   },
   "outputs": [
    {
     "data": {
      "text/plain": [
       "['mi', 'mi', 're', 're', 'mi', 'do', 're', 'doo']"
      ]
     },
     "execution_count": 42,
     "metadata": {},
     "output_type": "execute_result"
    }
   ],
   "source": [
    "# want to get combination of do re mi fa so la ti.. in any order\n",
    "\n",
    "re.findall(r\"do+|re+|mi+\", \"mimi rere midore doo-wap\")"
   ]
  },
  {
   "cell_type": "code",
   "execution_count": 43,
   "metadata": {
    "collapsed": false
   },
   "outputs": [
    {
     "data": {
      "text/plain": [
       "['mimi', 'rere', 'midore', 'do']"
      ]
     },
     "execution_count": 43,
     "metadata": {},
     "output_type": "execute_result"
    }
   ],
   "source": [
    "re.findall(r\"(?:do|re|mi)+\", \"mimi rere midore doo-wap\")"
   ]
  },
  {
   "cell_type": "code",
   "execution_count": 66,
   "metadata": {
    "collapsed": false
   },
   "outputs": [
    {
     "name": "stdout",
     "output_type": "stream",
     "text": [
      "['\"I say, \\\\\"hello.\\\\\"\"']\n"
     ]
    }
   ],
   "source": [
    "# let print(re.findall(regexp,'\"I say, \\\\\"hello.\\\\\"\"')) \n",
    "#  == ['\"I say, \\\\\"hello.\\\\\"\"']\n",
    "\n",
    "# my solution 1\n",
    "#regexp = r'(?:.+(?:\\\\)+)+\\\"\\\"'\n",
    "\n",
    "# my solution 2\n",
    "#regexp = r'(?:.+\\\\+)+\\\"\\\"'\n",
    "\n",
    "# my solution 3\n",
    "regexp = r'(?:(?:[^\\\\])|(?:\\\\))+'\n",
    "\n",
    "# official solution \n",
    "# regexp = r'\"((?:[^\\\\]|(?:\\\\.))*)\"'\n",
    "\n",
    "print(re.findall(regexp,'\"I say, \\\\\"hello.\\\\\"\"'))\n",
    "\n",
    "# but this don't work, why?\n",
    "#regexp = r'(?:.+(?:\\\\)(?:\\\\))+\\\"\\\"'\n",
    "\n",
    "# this don't work either\n",
    "#regexp = r'(?:.+\\\\\\\\)+(?:\\\")+'\n"
   ]
  },
  {
   "cell_type": "markdown",
   "metadata": {},
   "source": [
    "### 2.11 Representing FiniteStateMachine  \n",
    "FSM Interpretation"
   ]
  },
  {
   "cell_type": "markdown",
   "metadata": {},
   "source": [
    "review:  \n",
    "maps (dictionary):  \n",
    "is_flower = {'rose': True, 'dog':False}  \n",
    "\n",
    "tuple: immutable list   \n",
    "\n",
    "represent this FSM in code  \n",
    "![](http://note.youdao.com/yws/public/resource/1c03bd415f0f751e46aa6d97ed5acbcb/xmlnote/WEBRESOURCEaa0c1b6c427330a76e76be688f63560b/27836)\n"
   ]
  },
  {
   "cell_type": "code",
   "execution_count": 87,
   "metadata": {
    "collapsed": false
   },
   "outputs": [
    {
     "name": "stdout",
     "output_type": "stream",
     "text": [
      "(1, a) is in edges\n",
      "calling fsmsim(aa111, 2, edges,accepting)\n",
      "(2, a) is in edges\n",
      "calling fsmsim(a111, 2, edges,accepting)\n",
      "(2, a) is in edges\n",
      "calling fsmsim(111, 2, edges,accepting)\n",
      "(2, 1) is in edges\n",
      "calling fsmsim(11, 3, edges,accepting)\n",
      "(3, 1) is in edges\n",
      "calling fsmsim(1, 3, edges,accepting)\n",
      "(3, 1) is in edges\n",
      "calling fsmsim(, 3, edges,accepting)\n",
      "string is empty now.\n",
      "True\n"
     ]
    }
   ],
   "source": [
    "edges = { \n",
    "    (1, 'a'): 2,\n",
    "    (2, 'a'): 2,\n",
    "    (2, '1'): 3,\n",
    "    (3, '1'):3}\n",
    "accepting = [3]\n",
    "\n",
    "# print((1, 'v') in edges)\n",
    "\n",
    "def fsmsim(string, state, edges, accepting):\n",
    "    if string == \"\":\n",
    "        print(\"string is empty now.\")\n",
    "        # print(state in accepting)\n",
    "        return state in accepting\n",
    "    else:\n",
    "        letter = string[0]\n",
    "        # QUIZ: You fill this out!\n",
    "        # Is there a valid edge?\n",
    "        # If so, take it.\n",
    "        # If not, return False.\n",
    "        # Hint: recursion.\n",
    "        if (state, letter) in edges:\n",
    "            print(\"(%s, %s) is in edges\" %(state, letter))\n",
    "            state = edges[(state, letter)]\n",
    "            string = string[1:]\n",
    "            print(\"calling fsmsim(%s, %s, edges,accepting)\" %(string, state))\n",
    "            return fsmsim(string, state, edges, accepting)\n",
    "        else: \n",
    "            return False\n",
    "        \n",
    "print(fsmsim(\"aaa111\", 1, edges, accepting))"
   ]
  },
  {
   "cell_type": "code",
   "execution_count": 90,
   "metadata": {
    "collapsed": false
   },
   "outputs": [
    {
     "name": "stdout",
     "output_type": "stream",
     "text": [
      "True\n"
     ]
    }
   ],
   "source": [
    "edges = {\n",
    "    (1, 'q'): 2,\n",
    "    (2, 'q'): 2 }\n",
    "\n",
    "accepting = [1, 2]\n",
    "\n",
    "def fsmsim(string, current, edges, accepting):\n",
    "    if string == \"\":\n",
    "        return current in accepting\n",
    "    else:\n",
    "        letter = string[0]\n",
    "        if (current, letter) in edges:\n",
    "            destination = edges[(current, letter)]\n",
    "            remaining_string = string[1:]\n",
    "            return fsmsim(remaining_string, destination, edges, accepting)\n",
    "        else:\n",
    "            return False\n",
    "        \n",
    "print(fsmsim(\"\",1,edges,accepting))"
   ]
  },
  {
   "cell_type": "code",
   "execution_count": 92,
   "metadata": {
    "collapsed": false
   },
   "outputs": [
    {
     "name": "stdout",
     "output_type": "stream",
     "text": [
      "True\n",
      "True\n",
      "True\n",
      "False\n"
     ]
    }
   ],
   "source": [
    "# FSM Interpretation\n",
    "\n",
    "# Define edges and accepting to encode r\"[a-b][c-d]?\". Name your start state 1.\n",
    "\n",
    "edges = {\n",
    "    (1, 'a'): 2,\n",
    "    (1, 'b'): 2,\n",
    "    (2, 'c'): 3,\n",
    "    (2, 'd'): 3 }\n",
    "\n",
    "accepting = [2, 3]\n",
    "\n",
    "\n",
    "def fsmsim(string, current, edges, accepting):\n",
    "    if string == \"\":\n",
    "        return current in accepting\n",
    "    else:\n",
    "        letter = string[0]\n",
    "        if (current, letter) in edges:\n",
    "            destination = edges[(current, letter)]\n",
    "            remaining_string = string[1:]\n",
    "            return fsmsim(remaining_string, destination, edges, accepting)\n",
    "        else:\n",
    "            return False\n",
    "\n",
    "\n",
    "print(fsmsim(\"a\",1,edges,accepting))\n",
    "# >>> True\n",
    "\n",
    "print(fsmsim(\"b\",1,edges,accepting))\n",
    "# >>> True\n",
    "\n",
    "print(fsmsim(\"ad\",1,edges,accepting))\n",
    "# >>> True\n",
    "\n",
    "print(fsmsim(\"e\",1,edges,accepting))\n",
    "# >>> False"
   ]
  },
  {
   "cell_type": "markdown",
   "metadata": {},
   "source": [
    "### 2.12 （不懂）ambiguous and epsilon\n",
    "Epsilon And Ambiguity  \n",
    "Ambiguity is introduced. A finite state machine with epsilon transitions or multiple outgoing edges leaving the same state with the same label is ambiguous. A finite state machine accepts a string if there is any path for that string that leads to an accepting state.\n",
    "\n",
    "### determinism and nondeterminism（不懂，明天再来）"
   ]
  },
  {
   "cell_type": "markdown",
   "metadata": {},
   "source": [
    "## 3 Examples  \n",
    "\n",
    "### 3.1 Phone number"
   ]
  },
  {
   "cell_type": "code",
   "execution_count": null,
   "metadata": {
    "collapsed": true
   },
   "outputs": [],
   "source": [
    "# Cumulative Recap!\n",
    "\n",
    "# Suppose we want to recognize phone numbers with or without hyphens. The\n",
    "# regular expression you give should work for any number of groups of any (non-\n",
    "# empty) size, separated by 1 hyphen. Each group is [0-9]+.\n",
    "\n",
    "# Hint: Accept \"5\" but not \"-6\"\n",
    "\n",
    "import re\n",
    "\n",
    "regexp = r\"[0-9]+(?:-[0-9]+)*\"\n",
    "\n",
    "# regexp matches:\n",
    "\n",
    "print re.findall(regexp,\"123-4567\") == [\"123-4567\"]\n",
    "#>>> True\n",
    "\n",
    "print re.findall(regexp,\"1234567\") == [\"1234567\"]\n",
    "#>>> True\n",
    "\n",
    "print re.findall(regexp,\"08-78-88-88-88\") == [\"08-78-88-88-88\"]\n",
    "#>>> True\n",
    "\n",
    "print re.findall(regexp,\"0878888888\") == [\"0878888888\"]\n",
    "#>>> True\n",
    "\n",
    "# regexp does not match:\n",
    "\n",
    "print re.findall(regexp,\"-6\") != [\"-6\"]\n",
    "#>>> True"
   ]
  },
  {
   "cell_type": "code",
   "execution_count": null,
   "metadata": {
    "collapsed": true
   },
   "outputs": [],
   "source": []
  },
  {
   "cell_type": "code",
   "execution_count": null,
   "metadata": {
    "collapsed": true
   },
   "outputs": [],
   "source": []
  },
  {
   "cell_type": "code",
   "execution_count": null,
   "metadata": {
    "collapsed": true
   },
   "outputs": [],
   "source": []
  },
  {
   "cell_type": "code",
   "execution_count": null,
   "metadata": {
    "collapsed": true
   },
   "outputs": [],
   "source": []
  },
  {
   "cell_type": "code",
   "execution_count": null,
   "metadata": {
    "collapsed": true
   },
   "outputs": [],
   "source": []
  },
  {
   "cell_type": "code",
   "execution_count": null,
   "metadata": {
    "collapsed": true
   },
   "outputs": [],
   "source": []
  },
  {
   "cell_type": "code",
   "execution_count": null,
   "metadata": {
    "collapsed": true
   },
   "outputs": [],
   "source": []
  },
  {
   "cell_type": "code",
   "execution_count": null,
   "metadata": {
    "collapsed": true
   },
   "outputs": [],
   "source": []
  },
  {
   "cell_type": "code",
   "execution_count": null,
   "metadata": {
    "collapsed": true
   },
   "outputs": [],
   "source": []
  },
  {
   "cell_type": "code",
   "execution_count": null,
   "metadata": {
    "collapsed": true
   },
   "outputs": [],
   "source": []
  },
  {
   "cell_type": "code",
   "execution_count": null,
   "metadata": {
    "collapsed": true
   },
   "outputs": [],
   "source": []
  },
  {
   "cell_type": "code",
   "execution_count": null,
   "metadata": {
    "collapsed": true
   },
   "outputs": [],
   "source": []
  }
 ],
 "metadata": {
  "anaconda-cloud": {},
  "kernelspec": {
   "display_name": "Python [default]",
   "language": "python",
   "name": "python3"
  },
  "language_info": {
   "codemirror_mode": {
    "name": "ipython",
    "version": 3
   },
   "file_extension": ".py",
   "mimetype": "text/x-python",
   "name": "python",
   "nbconvert_exporter": "python",
   "pygments_lexer": "ipython3",
   "version": "3.5.2"
  }
 },
 "nbformat": 4,
 "nbformat_minor": 1
}
