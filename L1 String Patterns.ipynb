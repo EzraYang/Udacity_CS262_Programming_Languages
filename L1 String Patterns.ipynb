{
 "cells": [
  {
   "cell_type": "markdown",
   "metadata": {},
   "source": [
    "## 0 \n",
    "### Course Overview\n",
    "![course goal](http://note.youdao.com/yws/public/resource/5ef28d14db632d7764deb4a6395cb443/xmlnote/WEBRESOURCE73e49bd1fa05aea708d0bf107e8959f6/27820)\n",
    "### Goal:\n",
    "* to use the goal of building a web browser to explore computer science\n",
    "\n",
    "### Steps:\n",
    "* start with web page source (HTML, JavaScript)\n",
    "* break them into important words\n",
    "* undstand the structure of the words we found \n",
    "* figure the meaning of the structure\n",
    "\n",
    "### Learning points\n",
    "* regular expressions\n",
    "* Finite State Machine\n",
    "* add a lexer that follows them automatically\n",
    "* context free grammar\n",
    "* parsing\n",
    "* having a parser that follow automatically"
   ]
  },
  {
   "cell_type": "raw",
   "metadata": {},
   "source": [
    "Lesson 1 Content\n",
    "\n",
    "## 1 Simple string manipulation  \n",
    "### 1.1 find position (indices) in strings\n",
    "### 1.2 slice strings\n",
    "### 1.3 split strings\n",
    "\n",
    "## 2 Regular Expressions\n",
    "### 2.1 Concatenation[ ][ ]\n",
    "### 2.2 (the previous thing)One or More  times +\n",
    "### 2.3 Finite State Machines \n",
    "### 2.4 Disjunction ( \"or\" notation)  |\n",
    "### 2.5 (the previous thing) Zero or one time  ?\n",
    "### 2.6 (the previous thing)Zero or more times *\n",
    "### 2.7 escape sequences \\\n",
    "### 2.8 any character except new line .\n",
    "### 2.9 anything except  sth [^sth]\n",
    "### 2.10 grouping (or structure)  \n",
    "### 2.11 Representing FiniteStateMachine  \n",
    "### 2.12 determinism and nondeterminism"
   ]
  },
  {
   "cell_type": "markdown",
   "metadata": {},
   "source": [
    "## 1 Simple string manipulation"
   ]
  },
  {
   "cell_type": "markdown",
   "metadata": {},
   "source": [
    "### 1.1 find position (indices) in strings"
   ]
  },
  {
   "cell_type": "code",
   "execution_count": 15,
   "metadata": {
    "collapsed": false
   },
   "outputs": [
    {
     "data": {
      "text/plain": [
       "3"
      ]
     },
     "execution_count": 15,
     "metadata": {},
     "output_type": "execute_result"
    }
   ],
   "source": [
    "\"Ada Lovelace\".find(\" \")"
   ]
  },
  {
   "cell_type": "code",
   "execution_count": 4,
   "metadata": {
    "collapsed": false
   },
   "outputs": [
    {
     "data": {
      "text/plain": [
       "9"
      ]
     },
     "execution_count": 4,
     "metadata": {},
     "output_type": "execute_result"
    }
   ],
   "source": [
    "\"Alan Turing\".find(\"n\", 4) # second param is the starting position"
   ]
  },
  {
   "cell_type": "markdown",
   "metadata": {},
   "source": [
    "### 1.2 slice strings"
   ]
  },
  {
   "cell_type": "code",
   "execution_count": 12,
   "metadata": {
    "collapsed": false
   },
   "outputs": [
    {
     "name": "stdout",
     "output_type": "stream",
     "text": [
      "True\n"
     ]
    }
   ],
   "source": [
    "def myfirst_yoursecond(p, q):\n",
    "    indexP = p.find(\" \")\n",
    "    indexQ = q.find(\" \")\n",
    "    pFirst = p[:indexP]\n",
    "    qSecond = q[indexQ + 1:]\n",
    "    return pFirst == qSecond\n",
    "\n",
    "print(myfirst_yoursecond(\"bell hooks\", \"curer bell\"))"
   ]
  },
  {
   "cell_type": "markdown",
   "metadata": {},
   "source": [
    "### 1.3 split strings"
   ]
  },
  {
   "cell_type": "code",
   "execution_count": 13,
   "metadata": {
    "collapsed": false
   },
   "outputs": [
    {
     "data": {
      "text/plain": [
       "['Python', 'is', 'fun']"
      ]
     },
     "execution_count": 13,
     "metadata": {},
     "output_type": "execute_result"
    }
   ],
   "source": [
    "\"Python is fun\".split( )"
   ]
  },
  {
   "cell_type": "code",
   "execution_count": 23,
   "metadata": {
    "collapsed": false
   },
   "outputs": [
    {
     "data": {
      "text/plain": [
       "['Python', 'is', 'fun']"
      ]
     },
     "execution_count": 23,
     "metadata": {},
     "output_type": "execute_result"
    }
   ],
   "source": [
    "\"Python is fun\".split(\" \")"
   ]
  },
  {
   "cell_type": "markdown",
   "metadata": {},
   "source": [
    "## 2 Regular Expressions"
   ]
  },
  {
   "cell_type": "markdown",
   "metadata": {},
   "source": [
    "to get more control over string\n",
    "\n",
    "regular = simple strings  \n",
    "expression = consice notation  \n",
    "\n",
    "[1-3] == \"1\", \"2\", \"3\"  \n",
    "\n",
    "import re # python's regular expression module  \n",
    "\"[0-9]\" # it's a string  \n",
    "r\"[0-9]\" # it's a regular expression mathing 10 different strings  \n"
   ]
  },
  {
   "cell_type": "code",
   "execution_count": 19,
   "metadata": {
    "collapsed": false
   },
   "outputs": [
    {
     "data": {
      "text/plain": [
       "['1', '2', '3']"
      ]
     },
     "execution_count": 19,
     "metadata": {},
     "output_type": "execute_result"
    }
   ],
   "source": [
    "import re\n",
    "\n",
    "# returns a list of substrings of second param\n",
    "# that match the regular expression\n",
    "re.findall(r\"[0-9]\", \"1+2 == 3\")"
   ]
  },
  {
   "cell_type": "code",
   "execution_count": 20,
   "metadata": {
    "collapsed": false
   },
   "outputs": [
    {
     "data": {
      "text/plain": [
       "['1', '2']"
      ]
     },
     "execution_count": 20,
     "metadata": {},
     "output_type": "execute_result"
    }
   ],
   "source": [
    "re.findall(r\"[1-2]\", \"1+2==3\")"
   ]
  },
  {
   "cell_type": "code",
   "execution_count": 22,
   "metadata": {
    "collapsed": false
   },
   "outputs": [
    {
     "data": {
      "text/plain": [
       "['a', 'b', 'a', 'a']"
      ]
     },
     "execution_count": 22,
     "metadata": {},
     "output_type": "execute_result"
    }
   ],
   "source": [
    "re.findall(r\"[a-c]\", \"Babara Liskov\") # case sensitive"
   ]
  },
  {
   "cell_type": "markdown",
   "metadata": {},
   "source": [
    "### 2.1 Concatenation[ ][ ]"
   ]
  },
  {
   "cell_type": "code",
   "execution_count": 25,
   "metadata": {
    "collapsed": false
   },
   "outputs": [
    {
     "data": {
      "text/plain": [
       "'[a-c][1-2]'"
      ]
     },
     "execution_count": 25,
     "metadata": {},
     "output_type": "execute_result"
    }
   ],
   "source": [
    "r\"[a-c][1-2]\"  # 6 matching strings"
   ]
  },
  {
   "cell_type": "code",
   "execution_count": 26,
   "metadata": {
    "collapsed": false
   },
   "outputs": [
    {
     "data": {
      "text/plain": [
       "['a1', 'c3']"
      ]
     },
     "execution_count": 26,
     "metadata": {},
     "output_type": "execute_result"
    }
   ],
   "source": [
    "re.findall(r\"[a-z][0-9]\", \"a1 2b cc3 44d\")"
   ]
  },
  {
   "cell_type": "markdown",
   "metadata": {},
   "source": [
    "### 2.2 (the previous thing)One or More  times +\n",
    "\n",
    "\"+\" sign  \n",
    "(+前面那一个东西出现one or more times)  \n",
    "\n",
    "r\"a+\"  matches 'a' 'aa' 'aaa' ...  \n",
    "r\"[0-1]+\"  matches '0' '1' '00' '11' '01' '10' '000' '001' '010' '111' ...    \n",
    "\n",
    "re.findall(r\"[0-9]\", \"1776\") will get \"1776\" # maximum munch"
   ]
  },
  {
   "cell_type": "code",
   "execution_count": 27,
   "metadata": {
    "collapsed": false
   },
   "outputs": [
    {
     "data": {
      "text/plain": [
       "['1 2', '3 44']"
      ]
     },
     "execution_count": 27,
     "metadata": {},
     "output_type": "execute_result"
    }
   ],
   "source": [
    "re.findall(r\"[0-9][ ][0-9]+\", \"a1 2b cc3 44d\")"
   ]
  },
  {
   "cell_type": "markdown",
   "metadata": {},
   "source": [
    "### 2.3 Finite State Machines  \n",
    "\n",
    "a visual representation of regular expressions\n",
    "\n",
    "![an example of finite state machine](http://note.youdao.com/yws/public/resource/5ef28d14db632d7764deb4a6395cb443/xmlnote/WEBRESOURCE76f08fdaa536515fad1505a411c72d66/27824)"
   ]
  },
  {
   "cell_type": "markdown",
   "metadata": {},
   "source": [
    "### 2.4 Disjunction ( \"or\" notation)  |\n",
    "\n",
    "![](http://note.youdao.com/yws/public/resource/5ef28d14db632d7764deb4a6395cb443/xmlnote/WEBRESOURCE220fe21ed947a808721efff0329e8e72/27826)"
   ]
  },
  {
   "cell_type": "code",
   "execution_count": 29,
   "metadata": {
    "collapsed": false
   },
   "outputs": [
    {
     "data": {
      "text/plain": [
       "['oethe', '1749']"
      ]
     },
     "execution_count": 29,
     "metadata": {},
     "output_type": "execute_result"
    }
   ],
   "source": [
    "re.findall(r\"[a-z]+|[0-9]+\", \"Goethe 1749\")"
   ]
  },
  {
   "cell_type": "markdown",
   "metadata": {},
   "source": [
    "### 2.5 (the previous thing) Zero or one time  ?\n",
    "\n",
    "![](http://note.youdao.com/yws/public/resource/1c03bd415f0f751e46aa6d97ed5acbcb/xmlnote/WEBRESOURCE5c6caa12a42e68bdbeb122421fa70331/27831)\n"
   ]
  },
  {
   "cell_type": "code",
   "execution_count": 30,
   "metadata": {
    "collapsed": false
   },
   "outputs": [
    {
     "data": {
      "text/plain": [
       "['1861', '-1941']"
      ]
     },
     "execution_count": 30,
     "metadata": {},
     "output_type": "execute_result"
    }
   ],
   "source": [
    "re.findall(r\"-?[0-9]+\", \"1861-1941 R.Tagore\")"
   ]
  },
  {
   "cell_type": "markdown",
   "metadata": {},
   "source": [
    "### 2.6 (the previous thing)Zero or more times *"
   ]
  },
  {
   "cell_type": "markdown",
   "metadata": {},
   "source": [
    "### 2.7 escape sequences \\"
   ]
  },
  {
   "cell_type": "code",
   "execution_count": 38,
   "metadata": {
    "collapsed": false
   },
   "outputs": [
    {
     "name": "stdout",
     "output_type": "stream",
     "text": [
      "True\n"
     ]
    }
   ],
   "source": [
    "regexp = r\"[a-z]+\\( *[0-9]+ *\\)\"\n",
    "\n",
    "print(re.findall(regexp,\"cos(0)\") == [\"cos(0)\"])"
   ]
  },
  {
   "cell_type": "markdown",
   "metadata": {},
   "source": [
    "### 2.8 any character except new line ."
   ]
  },
  {
   "cell_type": "code",
   "execution_count": 40,
   "metadata": {
    "collapsed": false
   },
   "outputs": [
    {
     "data": {
      "text/plain": [
       "['1a1', '222']"
      ]
     },
     "execution_count": 40,
     "metadata": {},
     "output_type": "execute_result"
    }
   ],
   "source": [
    "re.findall(r\"[0-9].[0-9]\", \"1a1 222 cc3\")"
   ]
  },
  {
   "cell_type": "markdown",
   "metadata": {},
   "source": [
    "### 2.9 anything except  sth [^sth]"
   ]
  },
  {
   "cell_type": "code",
   "execution_count": 41,
   "metadata": {
    "collapsed": false
   },
   "outputs": [
    {
     "data": {
      "text/plain": [
       "['1 ', '22', '2 ', '33']"
      ]
     },
     "execution_count": 41,
     "metadata": {},
     "output_type": "execute_result"
    }
   ],
   "source": [
    "re.findall(r\"[0-9][^ab]\", \"1a1 222 33c\")"
   ]
  },
  {
   "cell_type": "markdown",
   "metadata": {},
   "source": [
    "### 2.10 grouping (or structure)  \n",
    "\n",
    "(?: things inside are taken as a whole)\n"
   ]
  },
  {
   "cell_type": "code",
   "execution_count": 42,
   "metadata": {
    "collapsed": false
   },
   "outputs": [
    {
     "data": {
      "text/plain": [
       "['mi', 'mi', 're', 're', 'mi', 'do', 're', 'doo']"
      ]
     },
     "execution_count": 42,
     "metadata": {},
     "output_type": "execute_result"
    }
   ],
   "source": [
    "# want to get combination of do re mi fa so la ti.. in any order\n",
    "\n",
    "re.findall(r\"do+|re+|mi+\", \"mimi rere midore doo-wap\")"
   ]
  },
  {
   "cell_type": "code",
   "execution_count": 43,
   "metadata": {
    "collapsed": false
   },
   "outputs": [
    {
     "data": {
      "text/plain": [
       "['mimi', 'rere', 'midore', 'do']"
      ]
     },
     "execution_count": 43,
     "metadata": {},
     "output_type": "execute_result"
    }
   ],
   "source": [
    "re.findall(r\"(?:do|re|mi)+\", \"mimi rere midore doo-wap\")"
   ]
  },
  {
   "cell_type": "code",
   "execution_count": 66,
   "metadata": {
    "collapsed": false
   },
   "outputs": [
    {
     "name": "stdout",
     "output_type": "stream",
     "text": [
      "['\"I say, \\\\\"hello.\\\\\"\"']\n"
     ]
    }
   ],
   "source": [
    "# let print(re.findall(regexp,'\"I say, \\\\\"hello.\\\\\"\"')) \n",
    "#  == ['\"I say, \\\\\"hello.\\\\\"\"']\n",
    "\n",
    "# my solution 1\n",
    "#regexp = r'(?:.+(?:\\\\)+)+\\\"\\\"'\n",
    "\n",
    "# my solution 2\n",
    "#regexp = r'(?:.+\\\\+)+\\\"\\\"'\n",
    "\n",
    "# my solution 3\n",
    "regexp = r'(?:(?:[^\\\\])|(?:\\\\))+'\n",
    "\n",
    "# official solution \n",
    "# regexp = r'\"((?:[^\\\\]|(?:\\\\.))*)\"'\n",
    "\n",
    "print(re.findall(regexp,'\"I say, \\\\\"hello.\\\\\"\"'))\n",
    "\n",
    "# but this don't work, why?\n",
    "#regexp = r'(?:.+(?:\\\\)(?:\\\\))+\\\"\\\"'\n",
    "\n",
    "# this don't work either\n",
    "#regexp = r'(?:.+\\\\\\\\)+(?:\\\")+'\n"
   ]
  },
  {
   "cell_type": "markdown",
   "metadata": {},
   "source": [
    "### 2.11 Representing FiniteStateMachine  \n",
    "FSM Interpretation"
   ]
  },
  {
   "cell_type": "markdown",
   "metadata": {},
   "source": [
    "review:  \n",
    "maps (dictionary):  \n",
    "is_flower = {'rose': True, 'dog':False}  \n",
    "\n",
    "tuple: immutable list   \n",
    "\n",
    "represent this FSM in code  \n",
    "![](http://note.youdao.com/yws/public/resource/1c03bd415f0f751e46aa6d97ed5acbcb/xmlnote/WEBRESOURCEaa0c1b6c427330a76e76be688f63560b/27836)\n"
   ]
  },
  {
   "cell_type": "code",
   "execution_count": 87,
   "metadata": {
    "collapsed": false
   },
   "outputs": [
    {
     "name": "stdout",
     "output_type": "stream",
     "text": [
      "(1, a) is in edges\n",
      "calling fsmsim(aa111, 2, edges,accepting)\n",
      "(2, a) is in edges\n",
      "calling fsmsim(a111, 2, edges,accepting)\n",
      "(2, a) is in edges\n",
      "calling fsmsim(111, 2, edges,accepting)\n",
      "(2, 1) is in edges\n",
      "calling fsmsim(11, 3, edges,accepting)\n",
      "(3, 1) is in edges\n",
      "calling fsmsim(1, 3, edges,accepting)\n",
      "(3, 1) is in edges\n",
      "calling fsmsim(, 3, edges,accepting)\n",
      "string is empty now.\n",
      "True\n"
     ]
    }
   ],
   "source": [
    "edges = { \n",
    "    (1, 'a'): 2,\n",
    "    (2, 'a'): 2,\n",
    "    (2, '1'): 3,\n",
    "    (3, '1'):3}\n",
    "accepting = [3]\n",
    "\n",
    "# print((1, 'v') in edges)\n",
    "\n",
    "def fsmsim(string, state, edges, accepting):\n",
    "    if string == \"\":\n",
    "        print(\"string is empty now.\")\n",
    "        # print(state in accepting)\n",
    "        return state in accepting\n",
    "    else:\n",
    "        letter = string[0]\n",
    "        # QUIZ: You fill this out!\n",
    "        # Is there a valid edge?\n",
    "        # If so, take it.\n",
    "        # If not, return False.\n",
    "        # Hint: recursion.\n",
    "        if (state, letter) in edges:\n",
    "            print(\"(%s, %s) is in edges\" %(state, letter))\n",
    "            state = edges[(state, letter)]\n",
    "            string = string[1:]\n",
    "            print(\"calling fsmsim(%s, %s, edges,accepting)\" %(string, state))\n",
    "            return fsmsim(string, state, edges, accepting)\n",
    "        else: \n",
    "            return False\n",
    "        \n",
    "print(fsmsim(\"aaa111\", 1, edges, accepting))"
   ]
  },
  {
   "cell_type": "code",
   "execution_count": 90,
   "metadata": {
    "collapsed": false
   },
   "outputs": [
    {
     "name": "stdout",
     "output_type": "stream",
     "text": [
      "True\n"
     ]
    }
   ],
   "source": [
    "edges = {\n",
    "    (1, 'q'): 2,\n",
    "    (2, 'q'): 2 }\n",
    "\n",
    "accepting = [1, 2]\n",
    "\n",
    "def fsmsim(string, current, edges, accepting):\n",
    "    if string == \"\":\n",
    "        return current in accepting\n",
    "    else:\n",
    "        letter = string[0]\n",
    "        if (current, letter) in edges:\n",
    "            destination = edges[(current, letter)]\n",
    "            remaining_string = string[1:]\n",
    "            return fsmsim(remaining_string, destination, edges, accepting)\n",
    "        else:\n",
    "            return False\n",
    "        \n",
    "print(fsmsim(\"\",1,edges,accepting))"
   ]
  },
  {
   "cell_type": "code",
   "execution_count": 92,
   "metadata": {
    "collapsed": false
   },
   "outputs": [
    {
     "name": "stdout",
     "output_type": "stream",
     "text": [
      "True\n",
      "True\n",
      "True\n",
      "False\n"
     ]
    }
   ],
   "source": [
    "# FSM Interpretation\n",
    "\n",
    "# Define edges and accepting to encode r\"[a-b][c-d]?\". Name your start state 1.\n",
    "\n",
    "edges = {\n",
    "    (1, 'a'): 2,\n",
    "    (1, 'b'): 2,\n",
    "    (2, 'c'): 3,\n",
    "    (2, 'd'): 3 }\n",
    "\n",
    "accepting = [2, 3]\n",
    "\n",
    "\n",
    "def fsmsim(string, current, edges, accepting):\n",
    "    if string == \"\":\n",
    "        return current in accepting\n",
    "    else:\n",
    "        letter = string[0]\n",
    "        if (current, letter) in edges:\n",
    "            destination = edges[(current, letter)]\n",
    "            remaining_string = string[1:]\n",
    "            return fsmsim(remaining_string, destination, edges, accepting)\n",
    "        else:\n",
    "            return False\n",
    "\n",
    "\n",
    "print(fsmsim(\"a\",1,edges,accepting))\n",
    "# >>> True\n",
    "\n",
    "print(fsmsim(\"b\",1,edges,accepting))\n",
    "# >>> True\n",
    "\n",
    "print(fsmsim(\"ad\",1,edges,accepting))\n",
    "# >>> True\n",
    "\n",
    "print(fsmsim(\"e\",1,edges,accepting))\n",
    "# >>> False"
   ]
  },
  {
   "cell_type": "markdown",
   "metadata": {},
   "source": [
    "### 2.12 determinism and nondeterminism\n",
    "Epsilon And Ambiguity \n",
    "* epsilon: do nothing and slide through the path for free\n",
    "* ambiguity: start from the same state, there's more than one path marked with the same label\n",
    "\n",
    "A finite state machine with epsilon transitions or multiple outgoing edges leaving the same state with the same label is ambiguous.  \n",
    "A finite state machine accepts a string if there is any path for that string that leads to an accepting state.  \n",
    "\n",
    "Every nondeterminism FSM has a determinism counterpart.\n"
   ]
  },
  {
   "cell_type": "markdown",
   "metadata": {
    "collapsed": true
   },
   "source": [
    "## Lesson 1 Wrap Up\n",
    "\n",
    "* strings\n",
    "* regular expressions  \n",
    "concise notation for specifiying sets of strings.  \n",
    "more flexible than fixed string matching.  \n",
    "* finite state machines  \n",
    "pictoral equivalant to regular expressions  \n",
    "* deterministic  \n",
    "every FSM can be converted to a deterministic FSM  \n",
    "* FSM simulation  \n",
    "a recursive function to check if a regular expression accepts a string or not  \n",
    "(this is how the python \"re\" library do)\n",
    "\n",
    "\n",
    "## Next  \n",
    "use these knowledge to specify important parts of HTML and Javascript  \n",
    "(string, constant, hypertext tags) (to make web browser)\n"
   ]
  },
  {
   "cell_type": "raw",
   "metadata": {
    "collapsed": true
   },
   "source": [
    "## part of problem set 1"
   ]
  },
  {
   "cell_type": "code",
   "execution_count": 7,
   "metadata": {
    "collapsed": false
   },
   "outputs": [
    {
     "name": "stdout",
     "output_type": "stream",
     "text": [
      "Test case passed.\n"
     ]
    }
   ],
   "source": [
    "# Title: Summing Numbers\n",
    "\n",
    "# Write a procedure called sumnums(). Your procedure must accept as input a\n",
    "# single string. Your procedure must output an integer equal to the sum of\n",
    "# all integer numbers (one or more digits in sequence) within that string.\n",
    "# If there are no decimal numbers in the input string, your procedure must\n",
    "# return the integer 0. The input string will not contain any negative integers.\n",
    "#\n",
    "# Example Input: \"hello 2 all of you 44\"\n",
    "# Example Output: 46\n",
    "#\n",
    "# Hint: int(\"44\") == 44\n",
    "\n",
    "import re\n",
    "\n",
    "def sumnums(sentence): \n",
    "    regexp = r\"[0-9]+\"\n",
    "    lst = re.findall(regexp, sentence)\n",
    "    ans = 0\n",
    "    for i in range(0, len(lst)):\n",
    "        ans += int(lst[i])\n",
    "    return ans\n",
    "    \n",
    "sumnums(\"\"\"The Act of Independence of Lithuania was signed \n",
    "on February 16, 1918, by 20 council members.\"\"\")\n",
    "\n",
    "# This problem includes an example test case to help you tell if you are on\n",
    "# the right track. You may want to make your own additional tests as well.\n",
    "\n",
    "test_case_input = \"\"\"The Act of Independence of Lithuania was signed \n",
    "on February 16, 1918, by 20 council members.\"\"\"\n",
    "\n",
    "test_case_output = 1954\n",
    "\n",
    "if sumnums(test_case_input) == test_case_output:\n",
    "  print(\"Test case passed.\")\n",
    "else:\n",
    "  print(\"Test case failed:\" )\n",
    "  print(sumnums(test_case_input))\n"
   ]
  },
  {
   "cell_type": "code",
   "execution_count": 6,
   "metadata": {
    "collapsed": false
   },
   "outputs": [
    {
     "name": "stdout",
     "output_type": "stream",
     "text": [
      "Test case passed.\n"
     ]
    }
   ],
   "source": [
    "# Singly-Hyphenated Words\n",
    "\n",
    "# We examined hyphenated words in a quiz in class. In this problem you\n",
    "# will get a chance to handle them correctly. \n",
    "# \n",
    "# Assign to the variable regexp a Python regular expression that matches \n",
    "# both words (with letters a-z) and also singly-hyphenated words. If you \n",
    "# use grouping, you must use (?: and ) as your regular expression\n",
    "# parentheses. \n",
    "#\n",
    "# Examples: \n",
    "#\n",
    "# regexp exactly matches \"astronomy\"  \n",
    "# regexp exactly matches \"near-infrared\"  \n",
    "# regexp exactly matches \"x-ray\"  \n",
    "# regexp does not exactly match \"-tricky\" \n",
    "# regexp does not exactly match \"tricky-\" \n",
    "# regexp does not exactly match \"large - scale\" \n",
    "# regexp does not exactly match \"gamma-ray-burst\" \n",
    "# regexp does not exactly match \"\" \n",
    "\n",
    "# Your regular expression only needs to handle lowercase strings.\n",
    "\n",
    "# In Python regular expressions, r\"A|B\" checks A first and then B - it \n",
    "# does not follow the maximal munch rule. Thus, you may want to check \n",
    "# for doubly-hyphenated words first and then non-hyphenated words.\n",
    "\n",
    "\n",
    "import re\n",
    "\n",
    "regexp = r\"(?:[a-z]+-*[a-z]+)|[a-z]+\" # you should replace this with your regular expression\n",
    "\n",
    "# This problem includes an example test case to help you tell if you are on\n",
    "# the right track. You may want to make your own additional tests as well.\n",
    "\n",
    "test_case_input = \"\"\"the wide-field infrared survey explorer is a nasa\n",
    "infrared-wavelength space telescope in an earth-orbiting satellite which\n",
    "performed an all-sky astronomical survey. be careful of -tricky tricky-\n",
    "hyphens --- be precise.\"\"\"\n",
    "\n",
    "test_case_output = ['the', 'wide-field', 'infrared', 'survey', 'explorer',\n",
    "'is', 'a', 'nasa', 'infrared-wavelength', 'space', 'telescope', 'in', 'an',\n",
    "'earth-orbiting', 'satellite', 'which', 'performed', 'an', 'all-sky',\n",
    "'astronomical', 'survey', 'be', 'careful', 'of', 'tricky', 'tricky',\n",
    "'hyphens', 'be', 'precise']\n",
    "\n",
    "if re.findall(regexp, test_case_input) == test_case_output:\n",
    "  print(\"Test case passed.\")\n",
    "else:\n",
    "  print(\"Test case failed:\" )\n",
    "  print(re.findall(regexp, test_case_input) )"
   ]
  },
  {
   "cell_type": "code",
   "execution_count": 13,
   "metadata": {
    "collapsed": false
   },
   "outputs": [
    {
     "name": "stdout",
     "output_type": "stream",
     "text": [
      "Test case 1 passed: True\n",
      "Test case 2 passed: True\n",
      "Test case 3 passed: True\n",
      "Test case 4 passed: True\n",
      "Test case 5 passed: True\n"
     ]
    }
   ],
   "source": [
    "# Title: Simulating Non-Determinism\n",
    "\n",
    "# Each regular expression can be converted to an equivalent finite state\n",
    "# machine. This is how regular expressions are implemented in practice. \n",
    "# We saw how non-deterministic finite state machines can be converted to\n",
    "# deterministic ones (often of a different size). It is also possible to\n",
    "# simulate non-deterministic machines directly -- and we'll do that now!\n",
    "#\n",
    "# In a given state, a non-deterministic machine may have *multiple*\n",
    "# outgoing edges labeled with the *same* character. \n",
    "#\n",
    "# To handle this ambiguity, we say that a non-deterministic finite state\n",
    "# machine accepts a string if there exists *any* path through the finite\n",
    "# state machine that consumes exactly that string as input and ends in an\n",
    "# accepting state. \n",
    "#\n",
    "# Write a procedure nfsmsim that works just like the fsmsim we covered\n",
    "# together, but handles also multiple outgoing edges and ambiguity. Do not\n",
    "# consider epsilon transitions. \n",
    "# \n",
    "# Formally, your procedure takes four arguments: a string, a starting\n",
    "# state, the edges (encoded as a dictionary mapping), and a list of\n",
    "# accepting states. \n",
    "#\n",
    "# To encode this ambiguity, we will change \"edges\" so that each state-input\n",
    "# pair maps to a *list* of destination states. \n",
    "#\n",
    "# For example, the regular expression r\"a+|(?:ab+c)\" might be encoded like\n",
    "# this:\n",
    "edges = { (1, 'a') : [2, 3],\n",
    "          (2, 'a') : [2],\n",
    "          (3, 'b') : [4, 3],\n",
    "          (4, 'c') : [5] }\n",
    "accepting = [2, 5] \n",
    "# It accepts both \"aaa\" (visiting states 1 2 2 and finally 2) and \"abbc\"\n",
    "# (visting states 1 3 3 4 and finally 5). \n",
    "\n",
    "# my solution\n",
    "def nfsmsim(string, current, edges, accepting): \n",
    "    if string == \"\":\n",
    "        return current in accepting\n",
    "    else:\n",
    "        letter = string[0]\n",
    "        if (current, letter) in edges:\n",
    "            value = []\n",
    "            for state in edges[(current, letter)]:\n",
    "                value.append(nfsmsim(string[1:], state, edges, accepting))\n",
    "            if True in value:\n",
    "                return True\n",
    "            else:\n",
    "                return False\n",
    "        else:\n",
    "            return False\n",
    "        \n",
    "# official solution, more concise\n",
    "def nfsmsim(string, current, edges, accepting):\n",
    "    if string == \"\":\n",
    "        return current in accepting\n",
    "    else:\n",
    "        letter = string[0:1]\n",
    "        if (current, letter) in edges:\n",
    "            remainder = string[1:]\n",
    "            newstates = edges[(current, letter)]\n",
    "            for newsstate in newstates:\n",
    "                if nfsmsim(remainder, newstate, edges, accepting):\n",
    "                    return True\n",
    "            return False\n",
    "\n",
    "# This problem includes some test cases to help you tell if you are on\n",
    "# the right track. You may want to make your own additional tests as well.\n",
    "\n",
    "print(\"Test case 1 passed: \" + str(nfsmsim(\"abc\", 1, edges, accepting) == True) )\n",
    "print(\"Test case 2 passed: \" + str(nfsmsim(\"aaa\", 1, edges, accepting) == True) )\n",
    "print(\"Test case 3 passed: \" + str(nfsmsim(\"abbbc\", 1, edges, accepting) == True)) \n",
    "print(\"Test case 4 passed: \" + str(nfsmsim(\"aabc\", 1, edges, accepting) == False)) \n",
    "print(\"Test case 5 passed: \" + str(nfsmsim(\"\", 1, edges, accepting) == False) )\n"
   ]
  },
  {
   "cell_type": "code",
   "execution_count": 9,
   "metadata": {
    "collapsed": false
   },
   "outputs": [
    {
     "data": {
      "text/plain": [
       "[2, 3]"
      ]
     },
     "execution_count": 9,
     "metadata": {},
     "output_type": "execute_result"
    }
   ],
   "source": [
    "edges = { (1, 'a') : [2, 3],\n",
    "          (2, 'a') : [2],\n",
    "          (3, 'b') : [4, 3],\n",
    "          (4, 'c') : [5] }\n",
    "\n",
    "edges[(1, 'a')]"
   ]
  },
  {
   "cell_type": "markdown",
   "metadata": {
    "collapsed": true
   },
   "source": [
    "Problem set1 #6 （暂时mei'zu"
   ]
  },
  {
   "cell_type": "code",
   "execution_count": null,
   "metadata": {
    "collapsed": true
   },
   "outputs": [],
   "source": []
  },
  {
   "cell_type": "code",
   "execution_count": null,
   "metadata": {
    "collapsed": true
   },
   "outputs": [],
   "source": []
  },
  {
   "cell_type": "code",
   "execution_count": null,
   "metadata": {
    "collapsed": true
   },
   "outputs": [],
   "source": []
  },
  {
   "cell_type": "code",
   "execution_count": null,
   "metadata": {
    "collapsed": true
   },
   "outputs": [],
   "source": []
  }
 ],
 "metadata": {
  "anaconda-cloud": {},
  "kernelspec": {
   "display_name": "Python [default]",
   "language": "python",
   "name": "python3"
  },
  "language_info": {
   "codemirror_mode": {
    "name": "ipython",
    "version": 3
   },
   "file_extension": ".py",
   "mimetype": "text/x-python",
   "name": "python",
   "nbconvert_exporter": "python",
   "pygments_lexer": "ipython3",
   "version": "3.5.2"
  }
 },
 "nbformat": 4,
 "nbformat_minor": 1
}
